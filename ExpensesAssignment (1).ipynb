{
  "nbformat": 4,
  "nbformat_minor": 0,
  "metadata": {
    "colab": {
      "provenance": []
    },
    "kernelspec": {
      "name": "python3",
      "display_name": "Python 3"
    },
    "language_info": {
      "name": "python"
    }
  },
  "cells": [
    {
      "cell_type": "code",
      "execution_count": 3,
      "metadata": {
        "id": "HNwve5dEEeaM"
      },
      "outputs": [],
      "source": [
        "import csv\n",
        "import os\n",
        "from datetime import datetime\n",
        "\n",
        "# Initialize global list to store expenses\n",
        "expenses = []\n",
        "monthly_budget = 0.0"
      ]
    },
    {
      "cell_type": "code",
      "source": [
        "#1 Adding an expense\n",
        "def add_expense():\n",
        "  date = input(\"Enter the date(YYYY-MM-DD) : \")\n",
        "  try:\n",
        "    datetime.strptime(date, \"%y-%m-%d\")\n",
        "  except ValueError:\n",
        "    print(\"Invalid date format. Try again!\")\n",
        "\n",
        "  category = str(input(\"Enter categor(For eg: Food or Travel)\"))\n",
        "  try:\n",
        "    amount = float(input(\"Enter amount spent :\"))\n",
        "  except ValueError:\n",
        "    print(\"Enter valid amount. Try Again!\")\n",
        "\n",
        "  description = str(input(\"Enter brief description about the amount spent : \"))\n",
        "\n",
        "  expense = {\n",
        "      'date': date,\n",
        "      'category': category,\n",
        "      'amount' : amount,\n",
        "      'description' : description\n",
        "  }\n",
        "  expenses.append(expense)\n",
        "  print(\"Expense added succesfully : \")\n",
        "\n"
      ],
      "metadata": {
        "id": "Nk57eIIlEjwE"
      },
      "execution_count": 4,
      "outputs": []
    },
    {
      "cell_type": "code",
      "source": [
        "#2 View Expenses\n",
        "def view_expenses():\n",
        "  if not expenses:\n",
        "    print(\"No expenses recorded. ThankYou!\")\n",
        "    return\n",
        "  print(\"The expenses are :\")\n",
        "  for idx,expense in enumerate(expenses,1):\n",
        "    print(f\"{idx}. Date:{expense['date']}, Category:{expense['category']}, Amount:{expense['amount']}, Description:{expense['description']}\")\n",
        "    print()"
      ],
      "metadata": {
        "id": "3Bh9EqJy9LqV"
      },
      "execution_count": null,
      "outputs": []
    },
    {
      "cell_type": "code",
      "source": [
        "# 3. Set and track the budget\n",
        "def set_budget():\n",
        "    global monthly_budget\n",
        "    try:\n",
        "        monthly_budget = float(input(\"Enter your monthly budget: \"))\n",
        "        print(f\"Monthly budget set to {monthly_budget:.2f}.\\n\")\n",
        "    except ValueError:\n",
        "        print(\"Invalid amount. Please enter a number.\\n\")\n",
        "\n",
        "def track_budget():\n",
        "    total_expenses = sum(expense['amount'] for expense in expenses)\n",
        "    print(f\"Total expenses so far: {total_expenses:.2f}\")\n",
        "\n",
        "    if total_expenses > monthly_budget:\n",
        "        print(\"Warning: You have exceeded your budget!\\n\")\n",
        "    else:\n",
        "        remaining = monthly_budget - total_expenses\n",
        "        print(f\"You have {remaining:.2f} left for the month.\\n\")"
      ],
      "metadata": {
        "id": "Izb9BKVP_Iju"
      },
      "execution_count": null,
      "outputs": []
    },
    {
      "cell_type": "code",
      "source": [
        "# 4. Save and load expenses\n",
        "def save_expenses():\n",
        "    with open(\"D:\\expenses.csv\", \"w\", newline=\"\") as file:\n",
        "        writer = csv.DictWriter(file, fieldnames=[\"date\", \"category\", \"amount\", \"description\"])\n",
        "        writer.writeheader()\n",
        "        writer.writerows(expenses)\n",
        "    print(\"Expenses saved to expenses.csv.\\n\")\n",
        "\n",
        "def load_expenses():\n",
        "    global expenses\n",
        "    if not os.path.exists(\"D:\\expenses.csv\"):\n",
        "        print(\"No saved expenses found. Starting fresh.\\n\")\n",
        "        return\n",
        "\n",
        "    with open(\"D:\\expenses.csv\", \"r\") as file:\n",
        "        reader = csv.DictReader(file)\n",
        "        expenses = [\n",
        "            {\"date\": row[\"date\"], \"category\": row[\"category\"], \"amount\": float(row[\"amount\"]), \"description\": row[\"description\"]}\n",
        "            for row in reader\n",
        "        ]\n",
        "    print(\"Expenses loaded successfully.\\n\")\n",
        "    print(\"Here is your expense: \",expenses)"
      ],
      "metadata": {
        "id": "kndShFTP_SnS"
      },
      "execution_count": null,
      "outputs": []
    },
    {
      "cell_type": "code",
      "source": [
        "# 5. Interactive menu\n",
        "def menu():\n",
        "    while True:\n",
        "        print(\"Menu:\")\n",
        "        print(\"1. Add expense\")\n",
        "        print(\"2. View expenses\")\n",
        "        print(\"3. Set monthly budget\")\n",
        "        print(\"4. Track budget\")\n",
        "        print(\"5. Save expenses\")\n",
        "        print(\"6. Load expenses\")\n",
        "        print(\"7. Exit\")\n",
        "\n",
        "        choice = input(\"Enter your choice: \")\n",
        "\n",
        "        if choice == \"1\":\n",
        "            add_expense()\n",
        "        elif choice == \"2\":\n",
        "            view_expenses()\n",
        "        elif choice == \"3\":\n",
        "            set_budget()\n",
        "        elif choice == \"4\":\n",
        "            track_budget()\n",
        "        elif choice == \"5\":\n",
        "            save_expenses()\n",
        "        elif choice == \"6\":\n",
        "            load_expenses()\n",
        "        elif choice == \"7\":\n",
        "            save_expenses()\n",
        "            print(\"Exiting program. Goodbye!\")\n",
        "            break\n",
        "        else:\n",
        "            print(\"Invalid choice. Please try again.\\n\")\n",
        "\n",
        "# Main program\n",
        "if __name__ == \"__main__\":\n",
        "    menu()"
      ],
      "metadata": {
        "colab": {
          "base_uri": "https://localhost:8080/"
        },
        "id": "-otCmP4x_abV",
        "outputId": "ec1b9c83-b26b-4129-de65-137c77ee22a5"
      },
      "execution_count": 8,
      "outputs": [
        {
          "output_type": "stream",
          "name": "stdout",
          "text": [
            "Menu:\n",
            "1. Add expense\n",
            "2. View expenses\n",
            "3. Set monthly budget\n",
            "4. Track budget\n",
            "5. Save expenses\n",
            "6. Load expenses\n",
            "7. Exit\n",
            "Enter your choice: 6\n",
            "Expenses loaded successfully.\n",
            "\n",
            "Here is your expense:  [{'date': '2024-12-19', 'category': 'Travel', 'amount': 10000.0, 'description': 'Lucknow'}]\n",
            "Menu:\n",
            "1. Add expense\n",
            "2. View expenses\n",
            "3. Set monthly budget\n",
            "4. Track budget\n",
            "5. Save expenses\n",
            "6. Load expenses\n",
            "7. Exit\n",
            "Enter your choice: 7\n",
            "Expenses saved to expenses.csv.\n",
            "\n",
            "Exiting program. Goodbye!\n"
          ]
        }
      ]
    }
  ]
}